{
 "cells": [
  {
   "cell_type": "markdown",
   "id": "3d42c3dd",
   "metadata": {},
   "source": [
    "Q1, Create a vehicle class with an init method having instance variables as name_of_vehicle, max_speed\n",
    "and average_of_vehicle."
   ]
  },
  {
   "cell_type": "code",
   "execution_count": 1,
   "id": "298a2c6c",
   "metadata": {},
   "outputs": [],
   "source": [
    "class vehicle:\n",
    "    \n",
    "    def __init__(self,name_of_vehicle,max_speed,average_of_vehicle):\n",
    "        self.name_of_vehicle=name_of_vehicle\n",
    "        self.max_speed=max_speed\n",
    "        self.average_of_vehicle=average_of_vehicle\n",
    "    def vehicle_details(self):\n",
    "        return self.name_of_vehicle,self.max_speed,self.average_of_vehicle\n",
    "        "
   ]
  },
  {
   "cell_type": "code",
   "execution_count": 4,
   "id": "863001b4",
   "metadata": {},
   "outputs": [],
   "source": [
    "a=vehicle('baleno',180,20)"
   ]
  },
  {
   "cell_type": "code",
   "execution_count": 6,
   "id": "618d4b83",
   "metadata": {},
   "outputs": [
    {
     "data": {
      "text/plain": [
       "'baleno'"
      ]
     },
     "execution_count": 6,
     "metadata": {},
     "output_type": "execute_result"
    }
   ],
   "source": [
    "a.name_of_vehicle"
   ]
  },
  {
   "cell_type": "code",
   "execution_count": 10,
   "id": "aa9d9873",
   "metadata": {},
   "outputs": [
    {
     "data": {
      "text/plain": [
       "180"
      ]
     },
     "execution_count": 10,
     "metadata": {},
     "output_type": "execute_result"
    }
   ],
   "source": [
    "a.max_speed"
   ]
  },
  {
   "cell_type": "code",
   "execution_count": 8,
   "id": "296a1a3d",
   "metadata": {},
   "outputs": [
    {
     "data": {
      "text/plain": [
       "20"
      ]
     },
     "execution_count": 8,
     "metadata": {},
     "output_type": "execute_result"
    }
   ],
   "source": [
    "a.average_of_vehicle"
   ]
  },
  {
   "cell_type": "markdown",
   "id": "0157da99",
   "metadata": {},
   "source": [
    "Q2. Create a child class car from the vehicle class created in Que 1, which will inherit the vehicle class.\n",
    "Create a method named seating_capacity which takes capacity as an argument and returns the name of\n",
    "the vehicle and its seating capacity."
   ]
  },
  {
   "cell_type": "code",
   "execution_count": 98,
   "id": "dd9d7d3d",
   "metadata": {},
   "outputs": [],
   "source": [
    "class vehicle:\n",
    "    \n",
    "    def __init__(self,name_of_vehicle,max_speed,average_of_vehicle):\n",
    "        self.name_of_vehicle=name_of_vehicle\n",
    "        self.max_speed=max_speed\n",
    "        self.average_of_vehicle=average_of_vehicle\n",
    "    def vehicle_details(self):\n",
    "        return (f\"vehicle: {self.name_of_vehicle}\"),(f\"Max Speed: {self.max_speed} km/h\"),(f\"Average: {self.average_of_vehicle} km/l\")\n",
    "    \n",
    "class Car(vehicle):\n",
    "    \n",
    "    def seating_capacity(self, capacity):\n",
    "        return f\"{self.name_of_vehicle} has a seating capacity of {capacity} passengers.\""
   ]
  },
  {
   "cell_type": "code",
   "execution_count": 105,
   "id": "a7dccb75",
   "metadata": {},
   "outputs": [
    {
     "name": "stdout",
     "output_type": "stream",
     "text": [
      "('vehicle: baleno', 'Max Speed: 180 km/h', 'Average: 20 km/l')\n",
      "Toyota Camry has a seating capacity of 5 passengers.\n"
     ]
    }
   ],
   "source": [
    "a=vehicle('baleno',180,20)\n",
    "print(a.vehicle_details())\n",
    "capacity = 5\n",
    "seating_capacity = car.seating_capacity(capacity)\n",
    "print(seating_capacity)"
   ]
  },
  {
   "cell_type": "markdown",
   "id": "52feeca7",
   "metadata": {},
   "source": [
    "Q3. What is multiple inheritance? Write a python code to demonstrate multiple inheritance."
   ]
  },
  {
   "cell_type": "markdown",
   "id": "71a2c907",
   "metadata": {},
   "source": [
    "Multiple inheritance is a feature in object-oriented programming where a class can inherit attributes and methods from multiple parent classes. This means that a child class can inherit from more than one parent class, allowing it to acquire the properties of multiple classes."
   ]
  },
  {
   "cell_type": "code",
   "execution_count": 106,
   "id": "07480f5f",
   "metadata": {},
   "outputs": [
    {
     "name": "stdout",
     "output_type": "stream",
     "text": [
      "Sparrow is flying.\n",
      "Sparrow is speaking.\n"
     ]
    }
   ],
   "source": [
    "class Animal:\n",
    "    def __init__(self, name):\n",
    "        self.name = name\n",
    "\n",
    "    def speak(self):\n",
    "        print(f\"{self.name} is speaking.\")\n",
    "\n",
    "\n",
    "class Flyable:\n",
    "    def fly(self):\n",
    "        print(f\"{self.name} is flying.\")\n",
    "\n",
    "\n",
    "class Bird(Animal, Flyable):\n",
    "    def __init__(self, name):\n",
    "        super().__init__(name)\n",
    "\n",
    "    def fly_and_speak(self):\n",
    "        self.fly()\n",
    "        self.speak()\n",
    "\n",
    "\n",
    "bird = Bird(\"Sparrow\")\n",
    "bird.fly_and_speak()\n"
   ]
  },
  {
   "cell_type": "markdown",
   "id": "0c79ef8b",
   "metadata": {},
   "source": [
    "Q4. What are getter and setter in python? Create a class and create a getter and a setter method in this\n",
    "class."
   ]
  },
  {
   "cell_type": "markdown",
   "id": "7cf874e5",
   "metadata": {},
   "source": [
    "\n",
    "Getter and setter methods are used in object-oriented programming to access and modify the values of class attributes in a controlled manner. They provide a way to encapsulate the access and modification of attributes, allowing for data validation and abstraction.\n",
    "\n",
    "A getter method, also known as an accessor method, is used to retrieve the value of an attribute. It is typically named with the prefix \"get_\" followed by the attribute name. Getter methods provide read-only access to the attribute.\n",
    "\n",
    "A setter method, also known as a mutator method, is used to modify the value of an attribute. It is typically named with the prefix \"set_\" followed by the attribute name. Setter methods provide a way to set the value of an attribute while enforcing any necessary constraints or validations."
   ]
  },
  {
   "cell_type": "code",
   "execution_count": 108,
   "id": "e4b2a5c6",
   "metadata": {},
   "outputs": [
    {
     "name": "stdout",
     "output_type": "stream",
     "text": [
      "John\n",
      "Alice\n"
     ]
    }
   ],
   "source": [
    "class Person:\n",
    "    def __init__(self, name):\n",
    "        self._name = name\n",
    "\n",
    "    def get_name(self):\n",
    "        return self._name\n",
    "\n",
    "    def set_name(self, name):\n",
    "        self._name = name\n",
    "\n",
    "\n",
    "person = Person(\"John\")\n",
    "print(person.get_name())  \n",
    "\n",
    "person.set_name(\"Alice\")\n",
    "print(person.get_name()) \n"
   ]
  },
  {
   "cell_type": "markdown",
   "id": "bed189c7",
   "metadata": {},
   "source": [
    "Q5.What is method overriding in python? Write a python code to demonstrate method overriding."
   ]
  },
  {
   "cell_type": "markdown",
   "id": "ecfa04c5",
   "metadata": {},
   "source": [
    "Method overriding is a feature in object-oriented programming where a subclass provides its own implementation of a method that is already defined in its parent class. It allows the subclass to override the behavior of the method inherited from the parent class."
   ]
  },
  {
   "cell_type": "code",
   "execution_count": 110,
   "id": "5f0d9e00",
   "metadata": {},
   "outputs": [
    {
     "name": "stdout",
     "output_type": "stream",
     "text": [
      "Calculating area of Shape...\n",
      "Calculating area of Rectangle...\n",
      "Calculating area of Circle...\n"
     ]
    }
   ],
   "source": [
    "class Shape:\n",
    "    def area(self):\n",
    "        print(\"Calculating area of Shape...\")\n",
    "\n",
    "\n",
    "class Rectangle(Shape):\n",
    "    def area(self):\n",
    "        print(\"Calculating area of Rectangle...\")\n",
    "\n",
    "\n",
    "class Circle(Shape):\n",
    "    def area(self):\n",
    "        print(\"Calculating area of Circle...\")\n",
    "\n",
    "\n",
    "shape = Shape()\n",
    "shape.area()  \n",
    "\n",
    "rectangle = Rectangle()\n",
    "rectangle.area() \n",
    "\n",
    "circle = Circle()\n",
    "circle.area()  \n"
   ]
  }
 ],
 "metadata": {
  "kernelspec": {
   "display_name": "Python 3 (ipykernel)",
   "language": "python",
   "name": "python3"
  },
  "language_info": {
   "codemirror_mode": {
    "name": "ipython",
    "version": 3
   },
   "file_extension": ".py",
   "mimetype": "text/x-python",
   "name": "python",
   "nbconvert_exporter": "python",
   "pygments_lexer": "ipython3",
   "version": "3.10.7"
  }
 },
 "nbformat": 4,
 "nbformat_minor": 5
}
