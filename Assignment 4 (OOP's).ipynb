{
 "cells": [
  {
   "cell_type": "markdown",
   "id": "b10a64a5",
   "metadata": {},
   "source": [
    "Q.1 explain class and object with respect to object oriented oriented programming.Give a suitable example."
   ]
  },
  {
   "cell_type": "markdown",
   "id": "955c7b87",
   "metadata": {},
   "source": [
    "1) CLASS is a blueprint or template that defines the properties and behaviors of objects.\n",
    "\n",
    "2) OBJECT is an instance of a class that represents a specific entity with its own state and behavior.\n",
    "\n",
    " Classes provide the structure and definition, and objects are the actual entities that are created and manipulated during program execution.\n",
    "\n",
    "\n",
    "For example,\n",
    "\n",
    "consider a class called \"Car\" that represents cars in a car dealership system. The class might define attributes such as brand, model, color, and price, as well as methods like start_engine(), accelerate(), and brake().\n",
    "\n",
    "An object of the Car class might represent a specific car, such as a red Ford Mustang with a price of $30,000. You can create multiple objects of the Car class, each with its own unique set of attribute values, allowing you to work with different instances of cars."
   ]
  },
  {
   "cell_type": "markdown",
   "id": "be12acd3",
   "metadata": {},
   "source": [
    "Q.2 Name four pillars of OOPs."
   ]
  },
  {
   "cell_type": "markdown",
   "id": "70e262e9",
   "metadata": {},
   "source": [
    "1) Encapsulation\n",
    "2) Inheritance\n",
    "3) Polymorphism\n",
    "4) Abstraction"
   ]
  },
  {
   "cell_type": "markdown",
   "id": "bbbd21a4",
   "metadata": {},
   "source": [
    "Q.3 Explain why the __init__() function is used .Give a suitable example."
   ]
  },
  {
   "cell_type": "markdown",
   "id": "fe4fa11a",
   "metadata": {},
   "source": [
    "The __init__() function, also known as the constructor, is a special method in Python classes that is automatically called when an object is created from the class. Its primary purpose is to initialize the attributes (data members) of an object with specific values."
   ]
  },
  {
   "cell_type": "code",
   "execution_count": 4,
   "id": "97e2cbfe",
   "metadata": {},
   "outputs": [],
   "source": [
    "class pwskills2:\n",
    "    \n",
    "    def __init__(teja,phone_number,email_id,student_id):  \n",
    "        teja.phone_number1 = phone_number\n",
    "        teja.email_id1 =email_id\n",
    "        teja.student_id1 =student_id\n",
    "    \n",
    "    def return_student_details(teja):\n",
    "        return teja.student_id1 ,teja.phone_number1 ,teja.email_id1"
   ]
  },
  {
   "cell_type": "markdown",
   "id": "0f3d67b7",
   "metadata": {},
   "source": [
    "Q.4 Why self is used in OOPs?"
   ]
  },
  {
   "cell_type": "markdown",
   "id": "1ca60c8e",
   "metadata": {},
   "source": [
    "self allows a method to access the attributes and methods of the current instance (object) of the class. It serves as a reference to the instance itself, allowing you to work with the object's data and perform operations on it."
   ]
  },
  {
   "cell_type": "markdown",
   "id": "3fe24653",
   "metadata": {},
   "source": [
    "Q.5 What is inheritance? Give an example for each type of inheritance."
   ]
  },
  {
   "cell_type": "markdown",
   "id": "7cb039a7",
   "metadata": {},
   "source": [
    "Inheritance is a fundamental concept in object-oriented programming (OOP) that allows a class (derived or child class) to inherit properties and behaviors from another class (base or parent class)."
   ]
  },
  {
   "cell_type": "markdown",
   "id": "28d24b08",
   "metadata": {},
   "source": [
    "1) Single Inheritance:Single inheritance involves inheriting properties and methods from a single base class."
   ]
  },
  {
   "cell_type": "code",
   "execution_count": 5,
   "id": "bcabe846",
   "metadata": {},
   "outputs": [],
   "source": [
    "class Animal:\n",
    "    def eat(self):\n",
    "        print(\"Eating...\")\n",
    "\n",
    "class Dog(Animal):\n",
    "    def bark(self):\n",
    "        print(\"Barking...\")"
   ]
  },
  {
   "cell_type": "code",
   "execution_count": 6,
   "id": "a749925a",
   "metadata": {},
   "outputs": [
    {
     "name": "stdout",
     "output_type": "stream",
     "text": [
      "Eating...\n",
      "Barking...\n"
     ]
    }
   ],
   "source": [
    "my_dog = Dog()\n",
    "my_dog.eat()  \n",
    "my_dog.bark() "
   ]
  },
  {
   "cell_type": "markdown",
   "id": "432fbc07",
   "metadata": {},
   "source": [
    "2) Multiple Inheritance: Multiple inheritance allows a derived class to inherit properties and methods from multiple base classes."
   ]
  },
  {
   "cell_type": "code",
   "execution_count": 7,
   "id": "809a50e4",
   "metadata": {},
   "outputs": [],
   "source": [
    "class A:\n",
    "    def method_a(self):\n",
    "        print(\"Method A\")\n",
    "\n",
    "class B:\n",
    "    def method_b(self):\n",
    "        print(\"Method B\")\n",
    "\n",
    "class C(A, B):\n",
    "    def method_c(self):\n",
    "        print(\"Method C\")"
   ]
  },
  {
   "cell_type": "code",
   "execution_count": 8,
   "id": "b3525be1",
   "metadata": {},
   "outputs": [
    {
     "name": "stdout",
     "output_type": "stream",
     "text": [
      "Method A\n",
      "Method B\n",
      "Method C\n"
     ]
    }
   ],
   "source": [
    "obj_c = C()\n",
    "obj_c.method_a()   \n",
    "obj_c.method_b()  \n",
    "obj_c.method_c()"
   ]
  },
  {
   "cell_type": "markdown",
   "id": "ac6def32",
   "metadata": {},
   "source": [
    "3) Multilevel Inheritance: Multilevel inheritance refers to the inheritance hierarchy where a derived class inherits from a base class, and another class inherits from that derived class."
   ]
  },
  {
   "cell_type": "code",
   "execution_count": 9,
   "id": "577f192f",
   "metadata": {},
   "outputs": [
    {
     "name": "stdout",
     "output_type": "stream",
     "text": [
      "Vehicle\n",
      "Car\n",
      "Sedan\n"
     ]
    }
   ],
   "source": [
    "class Vehicle:\n",
    "    def display_vehicle_type(self):\n",
    "        print(\"Vehicle\")\n",
    "\n",
    "class Car(Vehicle):\n",
    "    def display_car_type(self):\n",
    "        print(\"Car\")\n",
    "\n",
    "class Sedan(Car):\n",
    "    def display_sedan_type(self):\n",
    "        print(\"Sedan\")\n",
    "\n",
    "# The Sedan class inherits from Car, which in turn inherits from Vehicle\n",
    "my_sedan = Sedan()\n",
    "my_sedan.display_vehicle_type()\n",
    "my_sedan.display_car_type()\n",
    "my_sedan.display_sedan_type()\n"
   ]
  },
  {
   "cell_type": "markdown",
   "id": "b8b7233b",
   "metadata": {},
   "source": [
    "4)Hierarchical Inheritance: Hierarchical inheritance involves multiple derived classes inheriting from a single base class."
   ]
  },
  {
   "cell_type": "code",
   "execution_count": 10,
   "id": "60cb351c",
   "metadata": {},
   "outputs": [
    {
     "name": "stdout",
     "output_type": "stream",
     "text": [
      "Calculating area...\n",
      "Calculating circumference...\n",
      "Calculating area...\n",
      "Calculating perimeter...\n"
     ]
    }
   ],
   "source": [
    "class Shape:\n",
    "    def calculate_area(self):\n",
    "        print(\"Calculating area...\")\n",
    "\n",
    "class Circle(Shape):\n",
    "    def calculate_circumference(self):\n",
    "        print(\"Calculating circumference...\")\n",
    "\n",
    "class Rectangle(Shape):\n",
    "    def calculate_perimeter(self):\n",
    "        print(\"Calculating perimeter...\")\n",
    "\n",
    "# Both Circle and Rectangle classes inherit from Shape class\n",
    "my_circle = Circle()\n",
    "my_circle.calculate_area()\n",
    "my_circle.calculate_circumference()\n",
    "\n",
    "my_rectangle = Rectangle()\n",
    "my_rectangle.calculate_area()\n",
    "my_rectangle.calculate_perimeter()\n"
   ]
  }
 ],
 "metadata": {
  "kernelspec": {
   "display_name": "Python 3 (ipykernel)",
   "language": "python",
   "name": "python3"
  },
  "language_info": {
   "codemirror_mode": {
    "name": "ipython",
    "version": 3
   },
   "file_extension": ".py",
   "mimetype": "text/x-python",
   "name": "python",
   "nbconvert_exporter": "python",
   "pygments_lexer": "ipython3",
   "version": "3.10.7"
  }
 },
 "nbformat": 4,
 "nbformat_minor": 5
}
