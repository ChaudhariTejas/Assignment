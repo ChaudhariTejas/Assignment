{
 "cells": [
  {
   "cell_type": "markdown",
   "id": "c56a6756",
   "metadata": {},
   "source": [
    "Answer(1)"
   ]
  },
  {
   "cell_type": "code",
   "execution_count": 8,
   "id": "caec072a",
   "metadata": {},
   "outputs": [
    {
     "name": "stdout",
     "output_type": "stream",
     "text": [
      "Enter your percentage 60\n",
      "Grade=C\n"
     ]
    }
   ],
   "source": [
    "Percentage=int(input('Enter your percentage '))\n",
    "if Percentage>90:\n",
    "    print('Grade=A')\n",
    "elif Percentage>80 and Percentage<=90:\n",
    "    print('Grade=B')\n",
    "elif Percentage>=60 and Percentage<=80:\n",
    "    print('Grade=C')\n",
    "else:\n",
    "    print('Grade=D')"
   ]
  },
  {
   "cell_type": "markdown",
   "id": "b6590584",
   "metadata": {},
   "source": [
    "Answer (2)"
   ]
  },
  {
   "cell_type": "code",
   "execution_count": 19,
   "id": "a4484f57",
   "metadata": {},
   "outputs": [
    {
     "name": "stdout",
     "output_type": "stream",
     "text": [
      "Enter the cost price of bike 60000\n",
      "Ower has to pay 10% TAX\n"
     ]
    }
   ],
   "source": [
    "Bike_price=int(input('Enter the cost price of bike '))\n",
    "if Bike_price>100000:\n",
    "    print('Ower has to pay 15% TAX')\n",
    "elif Bike_price>50000 and Bike_price<=100000:\n",
    "    print('Ower has to pay 10% TAX')\n",
    "else:\n",
    "    print('Ower has to pay 5% TAX')"
   ]
  },
  {
   "cell_type": "markdown",
   "id": "843c3505",
   "metadata": {},
   "source": [
    "Answer (3)"
   ]
  },
  {
   "cell_type": "code",
   "execution_count": 23,
   "id": "5de83aac",
   "metadata": {},
   "outputs": [
    {
     "name": "stdout",
     "output_type": "stream",
     "text": [
      "Enter the name of the city = Delhi\n",
      "Redfort\n"
     ]
    }
   ],
   "source": [
    "city_name=input('Enter the name of the city = ')\n",
    "if city_name=='Delhi':\n",
    "    print('Redfort')\n",
    "elif city_name==\"Agra\":\n",
    "    print('Tajmahal')\n",
    "elif city_name=='jaipur':\n",
    "    print('jal mahal')"
   ]
  },
  {
   "cell_type": "markdown",
   "id": "72dc4e92",
   "metadata": {},
   "source": [
    "Answer (4)"
   ]
  },
  {
   "cell_type": "code",
   "execution_count": 60,
   "id": "ab42233c",
   "metadata": {},
   "outputs": [],
   "source": [
    "def count_divisions_by_three(number):\n",
    "    count = 0\n",
    "    while number > 10:\n",
    "        count += 1\n",
    "        number /= 3\n",
    "    return count"
   ]
  },
  {
   "cell_type": "code",
   "execution_count": 61,
   "id": "b74f82c9",
   "metadata": {},
   "outputs": [
    {
     "name": "stdout",
     "output_type": "stream",
     "text": [
      "Enter a number: 27\n",
      "Number of divisions by 3 before reaching 10 or less: 1\n"
     ]
    }
   ],
   "source": [
    "number = int(input(\"Enter a number: \"))\n",
    "divisions = count_divisions_by_three(number)\n",
    "print(\"Number of divisions by 3 before reaching 10 or less:\", divisions)\n"
   ]
  },
  {
   "cell_type": "markdown",
   "id": "9e3a0500",
   "metadata": {},
   "source": [
    "Answer (5)"
   ]
  },
  {
   "cell_type": "markdown",
   "id": "49911e60",
   "metadata": {},
   "source": [
    "The while loop in Python is used to repeatedly execute a block of code as long as a specified condition is true."
   ]
  },
  {
   "cell_type": "code",
   "execution_count": 64,
   "id": "292937ff",
   "metadata": {},
   "outputs": [
    {
     "name": "stdout",
     "output_type": "stream",
     "text": [
      "Count: 0\n",
      "Count: 1\n",
      "Count: 2\n",
      "Count: 3\n",
      "Count: 4\n",
      "Count: 5\n",
      "Count: 6\n",
      "Count: 7\n",
      "Count: 8\n",
      "Count: 9\n"
     ]
    }
   ],
   "source": [
    "count = 0\n",
    "while count < 10:\n",
    "    print(\"Count:\", count)\n",
    "    count += 1\n"
   ]
  },
  {
   "cell_type": "markdown",
   "id": "74959f91",
   "metadata": {},
   "source": [
    "Answer (6)"
   ]
  },
  {
   "cell_type": "code",
   "execution_count": 18,
   "id": "5390dbf3",
   "metadata": {},
   "outputs": [
    {
     "name": "stdout",
     "output_type": "stream",
     "text": [
      "* \n",
      "* * \n",
      "* * * \n",
      "* * * * \n",
      "* * * * * \n"
     ]
    }
   ],
   "source": [
    "# Pattern 1: Triangle Pattern\n",
    "\n",
    "rows = 5\n",
    "i = 1\n",
    "\n",
    "while i <= rows:\n",
    "    j = 1\n",
    "    while j <= i:\n",
    "        print('*', end=\" \")\n",
    "        j += 1\n",
    "    print()\n",
    "    i += 1\n"
   ]
  },
  {
   "cell_type": "code",
   "execution_count": 11,
   "id": "d411e10e",
   "metadata": {},
   "outputs": [
    {
     "name": "stdout",
     "output_type": "stream",
     "text": [
      "* * * * \n",
      "* * * * \n",
      "* * * * \n",
      "* * * * \n"
     ]
    }
   ],
   "source": [
    "# Pattern 2: Square Pattern\n",
    "\n",
    "size = 4\n",
    "i = 1\n",
    "\n",
    "while i <= size:\n",
    "    j = 1\n",
    "    while j <= size:\n",
    "        print(\"*\", end=\" \")\n",
    "        j += 1\n",
    "    print()\n",
    "    i += 1\n"
   ]
  },
  {
   "cell_type": "code",
   "execution_count": 4,
   "id": "8d51ea5a",
   "metadata": {},
   "outputs": [
    {
     "name": "stdout",
     "output_type": "stream",
     "text": [
      "1 \n",
      "1 2 \n",
      "1 2 3 \n",
      "1 2 3 4 \n",
      "1 2 3 4 5 \n"
     ]
    }
   ],
   "source": [
    "# Pattern 3: Right Triangle Pattern\n",
    "\n",
    "rows = 5\n",
    "i = 1\n",
    "\n",
    "while i <= rows:\n",
    "    j = 1\n",
    "    while j <= i:\n",
    "        print(j, end=\" \")\n",
    "        j += 1\n",
    "    print()\n",
    "    i += 1\n"
   ]
  },
  {
   "cell_type": "markdown",
   "id": "5e32190c",
   "metadata": {},
   "source": [
    "Answer (7)"
   ]
  },
  {
   "cell_type": "code",
   "execution_count": 25,
   "id": "85c2979a",
   "metadata": {},
   "outputs": [
    {
     "name": "stdout",
     "output_type": "stream",
     "text": [
      "10\n",
      "9\n",
      "8\n",
      "7\n",
      "6\n",
      "5\n",
      "4\n",
      "3\n",
      "2\n",
      "1\n"
     ]
    }
   ],
   "source": [
    "i=10\n",
    "while i>=1:\n",
    "    print(i)\n",
    "    i=i-1"
   ]
  },
  {
   "cell_type": "code",
   "execution_count": null,
   "id": "3bc16b9c",
   "metadata": {},
   "outputs": [],
   "source": []
  }
 ],
 "metadata": {
  "kernelspec": {
   "display_name": "Python 3 (ipykernel)",
   "language": "python",
   "name": "python3"
  },
  "language_info": {
   "codemirror_mode": {
    "name": "ipython",
    "version": 3
   },
   "file_extension": ".py",
   "mimetype": "text/x-python",
   "name": "python",
   "nbconvert_exporter": "python",
   "pygments_lexer": "ipython3",
   "version": "3.10.7"
  }
 },
 "nbformat": 4,
 "nbformat_minor": 5
}
