{
 "cells": [
  {
   "cell_type": "markdown",
   "id": "6774a918",
   "metadata": {},
   "source": [
    "Q1. What is Abstraction in OOps? Explain with an example."
   ]
  },
  {
   "cell_type": "markdown",
   "id": "edf3e8db",
   "metadata": {},
   "source": [
    "Abstraction in object-oriented programming (OOP) is a concept that focuses on representing the essential characteristics and behaviors of an object while hiding unnecessary details. It allows us to create models or representations of real-world entities in a simplified and manageable way."
   ]
  },
  {
   "cell_type": "code",
   "execution_count": 3,
   "id": "512735b6",
   "metadata": {},
   "outputs": [],
   "source": [
    "from abc import ABC, abstractmethod\n",
    "\n",
    "class Account(ABC):\n",
    "    def __init__(self, account_number, balance):\n",
    "        self.account_number = account_number\n",
    "        self.balance = balance\n",
    "\n",
    "    @abstractmethod\n",
    "    def deposit(self, amount):\n",
    "        pass\n",
    "\n",
    "    @abstractmethod\n",
    "    def withdraw(self, amount):\n",
    "        pass\n",
    "\n",
    "class SavingsAccount(Account):\n",
    "    def deposit(self, amount):\n",
    "        self.balance += amount\n",
    "\n",
    "    def withdraw(self, amount):\n",
    "        if self.balance >= amount:\n",
    "            self.balance -= amount\n",
    "        else:\n",
    "            print(\"Insufficient balance\")\n",
    "\n",
    "class CheckingAccount(Account):\n",
    "    def deposit(self, amount):\n",
    "        self.balance += amount\n",
    "\n",
    "    def withdraw(self, amount):\n",
    "        if self.balance >= amount:\n",
    "            self.balance -= amount\n",
    "        else:\n",
    "            print(\"Insufficient balance\")\n",
    "\n"
   ]
  },
  {
   "cell_type": "markdown",
   "id": "fac343f5",
   "metadata": {},
   "source": [
    "Q2. Differentiate between Abstraction and Encapsulation. Explain with an example."
   ]
  },
  {
   "cell_type": "markdown",
   "id": "ad5f6dc6",
   "metadata": {},
   "source": [
    "Abstraction:\n",
    "\n",
    "Abstraction focuses on representing the essential characteristics and behaviors of an object while hiding unnecessary details.\n",
    "It allows us to create simplified and manageable models of real-world entities.\n",
    "Abstraction is achieved through the use of abstract classes and interfaces.\n",
    "It provides a high-level view of an object by defining the common properties and methods that derived classes must implement.\n",
    "It helps in achieving code reusability, modularity, and separation of concerns."
   ]
  },
  {
   "cell_type": "code",
   "execution_count": 4,
   "id": "51c3799f",
   "metadata": {},
   "outputs": [],
   "source": [
    "from abc import ABC, abstractmethod\n",
    "\n",
    "class Animal(ABC):\n",
    "    @abstractmethod\n",
    "    def sound(self):\n",
    "        pass\n",
    "\n",
    "class Dog(Animal):\n",
    "    def sound(self):\n",
    "        print(\"Woof!\")\n",
    "\n",
    "class Cat(Animal):\n",
    "    def sound(self):\n",
    "        print(\"Meow!\")\n",
    "\n"
   ]
  },
  {
   "cell_type": "markdown",
   "id": "adfc7936",
   "metadata": {},
   "source": [
    "Encapsulation:\n",
    "\n",
    "Encapsulation is the process of bundling data and the methods that operate on that data into a single unit (object).\n",
    "It allows us to control access to the internal state (data) of an object and ensures data integrity.\n",
    "Encapsulation helps in achieving data hiding and abstraction.\n",
    "It provides a way to define the visibility (public, private, protected) and access levels of members (variables and methods) of a class."
   ]
  },
  {
   "cell_type": "code",
   "execution_count": 11,
   "id": "8017773f",
   "metadata": {},
   "outputs": [],
   "source": [
    "class BankAccount:\n",
    "    def __init__(self, account_number, balance):\n",
    "        self.__account_number = account_number\n",
    "        self.__balance = balance\n",
    "\n",
    "    def deposit(self, amount):\n",
    "        self.__balance += amount\n",
    "\n",
    "    def withdraw(self, amount):\n",
    "        if self.__balance >= amount:\n",
    "            self.__balance -= amount\n",
    "        else:\n",
    "            print(\"Insufficient balance\")\n",
    "\n",
    "    def get_balance(self):\n",
    "        return self.__balance\n",
    "\n"
   ]
  },
  {
   "cell_type": "markdown",
   "id": "1ccfd860",
   "metadata": {},
   "source": [
    "Q3. What is abc module in python? Why is it used?"
   ]
  },
  {
   "cell_type": "markdown",
   "id": "0e721321",
   "metadata": {},
   "source": [
    "\n",
    "The abc module in Python stands for \"Abstract Base Classes.\" It provides mechanisms for defining abstract base classes in Python. Abstract base classes are classes that cannot be instantiated directly but are meant to be subclassed by other classes."
   ]
  },
  {
   "cell_type": "markdown",
   "id": "2ad59495",
   "metadata": {},
   "source": [
    "Defining Abstract Base Classes (ABCs): The abc module provides the ABC class as a base class for creating abstract base classes. Subclassing from ABC allows you to define abstract methods using the @abstractmethod decorator. An abstract method is a method declaration without an implementation, and it must be implemented by any concrete class that inherits from the abstract base class."
   ]
  },
  {
   "cell_type": "markdown",
   "id": "c3f5eaba",
   "metadata": {},
   "source": [
    "Q4. How can we achieve data abstraction?"
   ]
  },
  {
   "cell_type": "markdown",
   "id": "a7cebea2",
   "metadata": {},
   "source": [
    "Data abstraction in object-oriented programming refers to the process of hiding the internal implementation details of an object and exposing only the essential information or functionality to the outside world. It allows users to interact with objects using a simplified interface, without needing to know the underlying complexities.\n",
    "Encapsulation: Encapsulation is the process of bundling data and methods/functions together into a single unit, known as a class. By defining classes, you can encapsulate the data and provide methods to manipulate and access that data. The internal implementation details are hidden from the outside, and users interact with the object using the defined methods."
   ]
  },
  {
   "cell_type": "markdown",
   "id": "5eaed9aa",
   "metadata": {},
   "source": [
    "Q5. Can we create an instance of an abstract class? Explain your answer."
   ]
  },
  {
   "cell_type": "markdown",
   "id": "6fc570f5",
   "metadata": {},
   "source": [
    "No, we cannot create an instance of an abstract class in Python. An abstract class is a class that contains one or more abstract methods, which are methods without any implementation. The purpose of an abstract class is to serve as a blueprint for its subclasses, providing a common interface and defining the structure and behavior that the subclasses should implement."
   ]
  }
 ],
 "metadata": {
  "kernelspec": {
   "display_name": "Python 3 (ipykernel)",
   "language": "python",
   "name": "python3"
  },
  "language_info": {
   "codemirror_mode": {
    "name": "ipython",
    "version": 3
   },
   "file_extension": ".py",
   "mimetype": "text/x-python",
   "name": "python",
   "nbconvert_exporter": "python",
   "pygments_lexer": "ipython3",
   "version": "3.10.7"
  }
 },
 "nbformat": 4,
 "nbformat_minor": 5
}
