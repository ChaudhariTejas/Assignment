{
 "cells": [
  {
   "cell_type": "markdown",
   "id": "03aad4cd",
   "metadata": {},
   "source": [
    "Q1. Explain with an example each when to use a for loop and a while loop."
   ]
  },
  {
   "cell_type": "markdown",
   "id": "e131b73c",
   "metadata": {},
   "source": [
    "1)For Loop -\n",
    "\n",
    "a) Use a for loop when you know the exact number of iterations or when you need to iterate over a sequence or collection of items.\n",
    "\n",
    "b) for loops are commonly used when you have a predefined collection or range of elements to iterate over."
   ]
  },
  {
   "cell_type": "code",
   "execution_count": 1,
   "id": "fbb536e5",
   "metadata": {
    "scrolled": true
   },
   "outputs": [
    {
     "name": "stdout",
     "output_type": "stream",
     "text": [
      "Tejas\n",
      "Boat\n",
      "Noise\n",
      "Oneplus\n"
     ]
    }
   ],
   "source": [
    "#Example of For Loop -\n",
    "\n",
    "l1=['Tejas','Boat','Noise','Oneplus']\n",
    "for i in range(len(l1)):\n",
    "    print(l1[i]) "
   ]
  },
  {
   "cell_type": "markdown",
   "id": "49852b9a",
   "metadata": {},
   "source": [
    "2)While Loop -\n",
    "\n",
    "a)Use a while loop when you need to repeatedly execute a block of code until a specific condition becomes false.\n",
    "\n",
    "b)while loops are useful when you don't know the exact number of iterations in advance, and the loop continues until a particular condition is met."
   ]
  },
  {
   "cell_type": "code",
   "execution_count": 2,
   "id": "00318819",
   "metadata": {},
   "outputs": [
    {
     "name": "stdout",
     "output_type": "stream",
     "text": [
      "1\n",
      "2\n",
      "3\n",
      "4\n",
      "5\n",
      "6\n",
      "7\n",
      "8\n",
      "9\n",
      "10\n"
     ]
    }
   ],
   "source": [
    "#Example of While Loop -\n",
    "a=1\n",
    "while a<=10:\n",
    "    print(a)\n",
    "    a=a+1"
   ]
  },
  {
   "cell_type": "markdown",
   "id": "c966b8d4",
   "metadata": {},
   "source": [
    "Q2. Write a python program to print the sum and product of the first 10 natural numbers using for\n",
    "and while loop."
   ]
  },
  {
   "cell_type": "code",
   "execution_count": 88,
   "id": "671e6fed",
   "metadata": {},
   "outputs": [
    {
     "name": "stdout",
     "output_type": "stream",
     "text": [
      "The sum of first 10 natural numbers is: 55\n"
     ]
    }
   ],
   "source": [
    "# 1)Using For Loop print the sum of the first 10 natural numbers.\n",
    "\n",
    "a=0\n",
    "for i in range(1,11):\n",
    "    result=i+a\n",
    "    a=result\n",
    "    i=i+1\n",
    "print(\"The sum of first 10 natural numbers is:\", result)"
   ]
  },
  {
   "cell_type": "code",
   "execution_count": 89,
   "id": "f7ca88d1",
   "metadata": {},
   "outputs": [
    {
     "name": "stdout",
     "output_type": "stream",
     "text": [
      "The product of first 10 natural numbers is: 3628800\n"
     ]
    }
   ],
   "source": [
    "# 2)Using For Loop print the product of the first 10 natural numbers.\n",
    "\n",
    "a=1\n",
    "for i in range(1,11):\n",
    "    product=i*a\n",
    "    a=product\n",
    "print(\"The product of first 10 natural numbers is:\", product)"
   ]
  },
  {
   "cell_type": "code",
   "execution_count": 90,
   "id": "b3ca1dbf",
   "metadata": {},
   "outputs": [
    {
     "name": "stdout",
     "output_type": "stream",
     "text": [
      "The sum of first 10 natural numbers is: 55\n"
     ]
    }
   ],
   "source": [
    "# 3)Using while Loop print the sum of the first 10 natural numbers.\n",
    "\n",
    "a=0\n",
    "counter=1\n",
    "while counter<=10:\n",
    "    result=a+counter\n",
    "    a=result\n",
    "    counter=counter+1\n",
    "print(\"The sum of first 10 natural numbers is:\", result)"
   ]
  },
  {
   "cell_type": "code",
   "execution_count": 91,
   "id": "fdb928ad",
   "metadata": {},
   "outputs": [
    {
     "name": "stdout",
     "output_type": "stream",
     "text": [
      "The product of first 10 natural numbers is: 3628800\n"
     ]
    }
   ],
   "source": [
    "# 4)Using while Loop print the sum of the first 10 natural numbers.\n",
    "\n",
    "a=1\n",
    "counter=1\n",
    "while counter<=10:\n",
    "    result=a*counter\n",
    "    a=result\n",
    "    counter=counter+1\n",
    "print(\"The product of first 10 natural numbers is:\", product)"
   ]
  },
  {
   "cell_type": "markdown",
   "id": "ee37aee9",
   "metadata": {},
   "source": [
    "Q3. Create a python program to compute the electricity bill for a household.\n",
    "The per-unit charges in rupees are as follows: For the first 100 units, the user will be charged Rs. 4.5 per\n",
    "unit, for the next 100 units, the user will be charged Rs. 6 per unit, and for the next 100 units, the user will\n",
    "be charged Rs. 10 per unit, After 300 units and above the user will be charged Rs. 20 per unit.\n",
    "You are required to take the units of electricity consumed in a month from the user as input.\n",
    "Your program must pass this test case: when the unit of electricity consumed by the user in a month is\n",
    "310, the total electricity bill should be 2250."
   ]
  },
  {
   "cell_type": "code",
   "execution_count": 95,
   "id": "90698520",
   "metadata": {},
   "outputs": [
    {
     "name": "stdout",
     "output_type": "stream",
     "text": [
      "units of electricity consumed in a month is 310\n",
      "Total electricity bill is : 6200\n"
     ]
    }
   ],
   "source": [
    "n=int(input(\"units of electricity consumed in a month is \"))\n",
    "if n<=100:\n",
    "    bill=4.5*n\n",
    "    print(\"Total electricity bill is :\",bill)\n",
    "elif n>=100 and n<=200:\n",
    "    bill=6*n\n",
    "    print(\"Total electricity bill is :\",bill)\n",
    "elif n>=200 and n<=300:\n",
    "    bill=10*n\n",
    "    print(\"Total electricity bill is :\",bill)\n",
    "else:\n",
    "    bill=20*n\n",
    "    print(\"Total electricity bill is :\",bill)"
   ]
  },
  {
   "cell_type": "markdown",
   "id": "ef88cb68",
   "metadata": {},
   "source": [
    "Q4. Create a list of numbers from 1 to 100. Use for loop and while loop to calculate the cube of each\n",
    "number and if the cube of that number is divisible by 4 or 5 then append that number in a list and print\n",
    "that list."
   ]
  },
  {
   "cell_type": "code",
   "execution_count": 170,
   "id": "67ac5c00",
   "metadata": {},
   "outputs": [
    {
     "name": "stdout",
     "output_type": "stream",
     "text": [
      "[2, 4, 5, 6, 8, 10, 12, 14, 15, 16, 18, 20, 22, 24, 25, 26, 28, 30, 32, 34, 35, 36, 38, 40, 42, 44, 45, 46, 48, 50, 52, 54, 55, 56, 58, 60, 62, 64, 65, 66, 68, 70, 72, 74, 75, 76, 78, 80, 82, 84, 85, 86, 88, 90, 92, 94, 95, 96, 98, 100]\n"
     ]
    }
   ],
   "source": [
    "# while loop to calculate the cube of each number and if the cube of that number is divisible by 4 or 5\n",
    "# then append that number in a list and print that list.\n",
    "\n",
    "list=[]\n",
    "counter=1\n",
    "while counter<=100:\n",
    "    cube=counter**3\n",
    "    if cube % 4 == 0 or cube % 5 == 0:\n",
    "        list.append(counter)\n",
    "    counter=counter+1\n",
    "print(list)"
   ]
  },
  {
   "cell_type": "code",
   "execution_count": 171,
   "id": "a86a6653",
   "metadata": {},
   "outputs": [
    {
     "name": "stdout",
     "output_type": "stream",
     "text": [
      "[2, 4, 5, 6, 8, 10, 12, 14, 15, 16, 18, 20, 22, 24, 25, 26, 28, 30, 32, 34, 35, 36, 38, 40, 42, 44, 45, 46, 48, 50, 52, 54, 55, 56, 58, 60, 62, 64, 65, 66, 68, 70, 72, 74, 75, 76, 78, 80, 82, 84, 85, 86, 88, 90, 92, 94, 95, 96, 98, 100]\n"
     ]
    }
   ],
   "source": [
    "#for loop to calculate the cube of each number and if the cube of that number is divisible by 4 or 5 then\n",
    "#append that number in a list and print that list.\n",
    "\n",
    "list = []\n",
    "for i in range(1, 101):\n",
    "    cube = i ** 3\n",
    "    if cube % 4 == 0 or cube % 5 == 0:\n",
    "        list.append(i)\n",
    "print(list)"
   ]
  },
  {
   "cell_type": "markdown",
   "id": "ecb5ee80",
   "metadata": {},
   "source": [
    "Q5. Write a program to filter count vowels in the below-given string.\n",
    "string = \"I want to become a data scientist\""
   ]
  },
  {
   "cell_type": "code",
   "execution_count": 215,
   "id": "2ffcaa1a",
   "metadata": {},
   "outputs": [
    {
     "name": "stdout",
     "output_type": "stream",
     "text": [
      "12\n"
     ]
    }
   ],
   "source": [
    "string = \"I want to become a data scientist\"\n",
    "vowels = \"aeiouAEIOU\"\n",
    "count=0\n",
    "for i in string:\n",
    "    if i in vowels:\n",
    "        count=len(i)+count\n",
    "print(count)"
   ]
  }
 ],
 "metadata": {
  "kernelspec": {
   "display_name": "Python 3 (ipykernel)",
   "language": "python",
   "name": "python3"
  },
  "language_info": {
   "codemirror_mode": {
    "name": "ipython",
    "version": 3
   },
   "file_extension": ".py",
   "mimetype": "text/x-python",
   "name": "python",
   "nbconvert_exporter": "python",
   "pygments_lexer": "ipython3",
   "version": "3.10.7"
  }
 },
 "nbformat": 4,
 "nbformat_minor": 5
}
