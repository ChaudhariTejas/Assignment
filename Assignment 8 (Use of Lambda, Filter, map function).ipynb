{
 "cells": [
  {
   "cell_type": "markdown",
   "id": "a6afdd14",
   "metadata": {},
   "source": [
    "Q1. You are writing code for a company. The requirement of the company is that you create a python\n",
    "function that will check whether the password entered by the user is correct or not. The function should\n",
    "take the password as input and return the string “Valid Password” if the entered password follows the\n",
    "below-given password guidelines else it should return “Invalid Password”.\n",
    "\n",
    "\n",
    "Note: 1. The Password should contain at least two uppercase letters and at least two lowercase letters.\n",
    "2. The Password should contain at least a number and three special characters.\n",
    "3. The length of the password should be 10 characters long."
   ]
  },
  {
   "cell_type": "code",
   "execution_count": 54,
   "id": "3bb9cf24",
   "metadata": {},
   "outputs": [],
   "source": [
    "import string\n",
    "\n",
    "def check_password(password):\n",
    "    if len(password)!=10:\n",
    "        return \"Invalid password\"\n",
    "    count_upper=0\n",
    "    count_lower=0\n",
    "    count_specialchar=0\n",
    "    count_digit=0\n",
    "    for i in password:\n",
    "        if i.isupper():\n",
    "            count_upper+=1\n",
    "        elif i.islower():\n",
    "            count_lower+=1\n",
    "        elif i.isdigit():\n",
    "            count_digit+=1\n",
    "        elif i in string.punctuation:\n",
    "            count_specialchar+=1\n",
    "    if count_upper>=2 and count_lower>=2 and count_specialchar==3 and count_digit>=1:\n",
    "        \n",
    "        return \"Valid password\"\n",
    "    else:\n",
    "        return 'invalid password'"
   ]
  },
  {
   "cell_type": "code",
   "execution_count": 56,
   "id": "097ae778",
   "metadata": {},
   "outputs": [
    {
     "name": "stdout",
     "output_type": "stream",
     "text": [
      "enter your pass F56@#$DFee\n"
     ]
    },
    {
     "data": {
      "text/plain": [
       "'Valid password'"
      ]
     },
     "execution_count": 56,
     "metadata": {},
     "output_type": "execute_result"
    }
   ],
   "source": [
    "a=input(\"enter your pass \")\n",
    "check_password(a)"
   ]
  },
  {
   "cell_type": "markdown",
   "id": "73957f1a",
   "metadata": {},
   "source": [
    "Q2. Solve the below-given questions using at least one of the following:\n",
    "1. Lambda function\n",
    "2. Filter function\n",
    "3. map function\n",
    "4. List Comprehension"
   ]
  },
  {
   "cell_type": "markdown",
   "id": "7cc011d0",
   "metadata": {},
   "source": [
    "1) Check if the string starts with a particular letter."
   ]
  },
  {
   "cell_type": "code",
   "execution_count": 127,
   "id": "52b3f55d",
   "metadata": {},
   "outputs": [
    {
     "name": "stdout",
     "output_type": "stream",
     "text": [
      "string start with T \n"
     ]
    }
   ],
   "source": [
    "string='Tejas Chaudhari'\n",
    "a=list(filter(lambda x:x.startswith('T'),string))\n",
    "if a:\n",
    "    print('string start with T ')"
   ]
  },
  {
   "cell_type": "markdown",
   "id": "3750dade",
   "metadata": {},
   "source": [
    "2) Check if the string is numeric."
   ]
  },
  {
   "cell_type": "code",
   "execution_count": 136,
   "id": "db91453c",
   "metadata": {},
   "outputs": [
    {
     "name": "stdout",
     "output_type": "stream",
     "text": [
      "The string is numeric.\n"
     ]
    }
   ],
   "source": [
    "string = \"12354\"\n",
    "a= lambda s: s.isdigit()\n",
    "b=a(string)\n",
    "if b==True:\n",
    "    print(\"The string is numeric.\")\n"
   ]
  },
  {
   "cell_type": "markdown",
   "id": "d2cc1d63",
   "metadata": {},
   "source": [
    "3) Sort a list of tuples having fruit names and their quantity. [(\"mango\",99),(\"orange\",80), (\"grapes\", 1000)]."
   ]
  },
  {
   "cell_type": "code",
   "execution_count": 171,
   "id": "70fd7138",
   "metadata": {},
   "outputs": [
    {
     "name": "stdout",
     "output_type": "stream",
     "text": [
      "[('orange', 80), ('mango', 99), ('grapes', 1000)]\n"
     ]
    }
   ],
   "source": [
    "l= [(\"mango\", 99), (\"orange\", 80), (\"grapes\", 1000)]\n",
    "\n",
    "sorted_fruits = sorted(l, key=lambda x: x[1])\n",
    "print(sorted_fruits)\n"
   ]
  },
  {
   "cell_type": "markdown",
   "id": "ba31a8b5",
   "metadata": {},
   "source": [
    "4) Find the squares of numbers from 1 to 10."
   ]
  },
  {
   "cell_type": "code",
   "execution_count": 173,
   "id": "dbd68508",
   "metadata": {},
   "outputs": [
    {
     "data": {
      "text/plain": [
       "[1, 4, 9, 16, 25, 36, 49, 64, 81, 100]"
      ]
     },
     "execution_count": 173,
     "metadata": {},
     "output_type": "execute_result"
    }
   ],
   "source": [
    "a=[1,2,3,4,5,6,7,8,9,10]\n",
    "b=list(map(lambda x:x**2,a))\n",
    "b"
   ]
  },
  {
   "cell_type": "markdown",
   "id": "4a13e838",
   "metadata": {},
   "source": [
    "5) Find the cube root of numbers from 1 to 10."
   ]
  },
  {
   "cell_type": "code",
   "execution_count": 175,
   "id": "87a5f520",
   "metadata": {},
   "outputs": [
    {
     "data": {
      "text/plain": [
       "[1.0,\n",
       " 1.2599210498948732,\n",
       " 1.4422495703074083,\n",
       " 1.5874010519681994,\n",
       " 1.7099759466766968,\n",
       " 1.8171205928321397,\n",
       " 1.912931182772389,\n",
       " 2.0,\n",
       " 2.080083823051904,\n",
       " 2.154434690031884]"
      ]
     },
     "execution_count": 175,
     "metadata": {},
     "output_type": "execute_result"
    }
   ],
   "source": [
    "a=[1,2,3,4,5,6,7,8,9,10]\n",
    "b=list(map(lambda x:x**(1/3),a))\n",
    "b"
   ]
  },
  {
   "cell_type": "markdown",
   "id": "571193d2",
   "metadata": {},
   "source": [
    "6) Check if a given number is even."
   ]
  },
  {
   "cell_type": "code",
   "execution_count": 182,
   "id": "0dc0bef6",
   "metadata": {},
   "outputs": [
    {
     "name": "stdout",
     "output_type": "stream",
     "text": [
      "168\n"
     ]
    },
    {
     "data": {
      "text/plain": [
       "'a is even'"
      ]
     },
     "execution_count": 182,
     "metadata": {},
     "output_type": "execute_result"
    }
   ],
   "source": [
    "a=int(input())\n",
    "b=lambda a:'a is even'if a%2==0 else 'a is not even'\n",
    "b(a)"
   ]
  },
  {
   "cell_type": "markdown",
   "id": "708476ea",
   "metadata": {},
   "source": [
    "7) Filter odd numbers from the given list.\n",
    "[1,2,3,4,5,6,7,8,9,10]"
   ]
  },
  {
   "cell_type": "code",
   "execution_count": 187,
   "id": "912c5ebf",
   "metadata": {},
   "outputs": [
    {
     "data": {
      "text/plain": [
       "[3, 6, 9]"
      ]
     },
     "execution_count": 187,
     "metadata": {},
     "output_type": "execute_result"
    }
   ],
   "source": [
    "l=[1,2,3,4,5,6,7,8,9,10]\n",
    "a=list(filter(lambda x:x%3==0,l))\n",
    "a"
   ]
  },
  {
   "cell_type": "markdown",
   "id": "466a0ede",
   "metadata": {},
   "source": [
    "8) Sort a list of integers into positive and negative integers lists.\n",
    "[1,2,3,4,5,6,-1,-2,-3,-4,-5,0]"
   ]
  },
  {
   "cell_type": "code",
   "execution_count": 191,
   "id": "58817d9e",
   "metadata": {},
   "outputs": [
    {
     "name": "stdout",
     "output_type": "stream",
     "text": [
      "[1, 2, 3, 4, 5, 6, 0]\n",
      "[-1, -2, -3, -4, -5]\n"
     ]
    }
   ],
   "source": [
    "l=[1,2,3,4,5,6,-1,-2,-3,-4,-5,0]\n",
    "l_positive=list(filter(lambda x:x>=0,l))\n",
    "l_negative=list(filter(lambda x:x<0,l))\n",
    "print(l_positive)\n",
    "print(l_negative)"
   ]
  },
  {
   "cell_type": "code",
   "execution_count": null,
   "id": "7cdca8cd",
   "metadata": {},
   "outputs": [],
   "source": []
  }
 ],
 "metadata": {
  "kernelspec": {
   "display_name": "Python 3 (ipykernel)",
   "language": "python",
   "name": "python3"
  },
  "language_info": {
   "codemirror_mode": {
    "name": "ipython",
    "version": 3
   },
   "file_extension": ".py",
   "mimetype": "text/x-python",
   "name": "python",
   "nbconvert_exporter": "python",
   "pygments_lexer": "ipython3",
   "version": "3.10.7"
  }
 },
 "nbformat": 4,
 "nbformat_minor": 5
}
