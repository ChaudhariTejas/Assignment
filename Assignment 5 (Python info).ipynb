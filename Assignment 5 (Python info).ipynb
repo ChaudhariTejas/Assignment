{
 "cells": [
  {
   "cell_type": "markdown",
   "id": "d64a38f5",
   "metadata": {},
   "source": [
    "1)Python was developed by Guido van Rossum."
   ]
  },
  {
   "cell_type": "markdown",
   "id": "1df50e5b",
   "metadata": {},
   "source": [
    "2)Python supports multiple programming paradigms, including procedural, object-oriented, and functional programming.\n",
    "\n"
   ]
  },
  {
   "cell_type": "markdown",
   "id": "bf060ce6",
   "metadata": {},
   "source": [
    "3)Yes, Python is case-sensitive when dealing with identifiers. For example, variables \"myVar\" and \"myvar\" are considered different in Python."
   ]
  },
  {
   "cell_type": "markdown",
   "id": "9ce8eab3",
   "metadata": {},
   "source": [
    "4)The correct extension for a Python file is \".py\". For example, \"my_script.py\"."
   ]
  },
  {
   "cell_type": "markdown",
   "id": "30bc5de1",
   "metadata": {},
   "source": [
    "5)Python code is interpreted. The Python interpreter reads and executes the code directly without the need for a separate compilation step."
   ]
  },
  {
   "cell_type": "markdown",
   "id": "8e694dee",
   "metadata": {},
   "source": [
    "6)Some common blocks of code used in Python include functions, classes, conditional statements (if-else), loops (for and while), and exception handling (try-except)."
   ]
  },
  {
   "cell_type": "markdown",
   "id": "b387e697",
   "metadata": {},
   "source": [
    "7)The character used to give single-line comments in Python is the hash symbol (#). Anything after the # symbol on a line is considered a comment and is ignored by the interpreter."
   ]
  },
  {
   "cell_type": "markdown",
   "id": "cf33a14a",
   "metadata": {},
   "source": [
    "8)Two functions that can help determine the version of Python are sys.version and platform.python_version()."
   ]
  },
  {
   "cell_type": "markdown",
   "id": "fd0c5ca2",
   "metadata": {},
   "source": [
    "9)Python supports the creation of anonymous functions at runtime using a construct called \"lambda\" functions. Lambda functions are small, anonymous functions that can be defined without a name."
   ]
  },
  {
   "cell_type": "markdown",
   "id": "2ca61169",
   "metadata": {},
   "source": [
    "10)\"pip\" stands for \"Pip Installs Packages.\" It is a package management system for installing and managing software packages written in Python."
   ]
  },
  {
   "cell_type": "markdown",
   "id": "5aa42b4e",
   "metadata": {},
   "source": [
    "11)Python has many built-in functions, including print(), len(), input(), range(), type(), str(), int(), float(), list(), dict(), and many more. These functions are available without the need for importing any additional modules."
   ]
  },
  {
   "cell_type": "markdown",
   "id": "bd428329",
   "metadata": {},
   "source": [
    "12)The maximum possible length of an identifier in Python is implementation-dependent. In most Python implementations, the maximum length is 255 characters."
   ]
  },
  {
   "cell_type": "markdown",
   "id": "78baf558",
   "metadata": {},
   "source": [
    "13)Some benefits of using Python include its simplicity and readability, extensive standard library, cross-platform compatibility, strong community support, and wide adoption in various domains such as web development, data science, and machine learning."
   ]
  },
  {
   "cell_type": "markdown",
   "id": "ce82bdd9",
   "metadata": {},
   "source": [
    "14)Memory management in Python is handled automatically using a combination of reference counting and a garbage collector. Python uses reference counting to keep track of objects and their references, and the garbage collector reclaims memory occupied by objects that are no longer referenced."
   ]
  },
  {
   "cell_type": "markdown",
   "id": "38194f61",
   "metadata": {},
   "source": [
    "15)To install Python on Windows and set path variables, you can follow these steps:\n",
    "Download the Python installer from the official Python website and run it.\n",
    "During the installation, make sure to select the option to add Python to the system PATH.\n",
    "After the installation is complete, open the command prompt and type \"python\" to verify that Python is installed and the path is set correctly."
   ]
  },
  {
   "cell_type": "markdown",
   "id": "fe5eac6b",
   "metadata": {},
   "source": [
    "16)Yes, indentation is required in Python. Unlike many other programming languages that use curly braces or keywords to denote blocks of code, Python uses indentation (typically four spaces) to define the scope and structure of the code. Indentation is crucial for proper syntax and to indicate which statements belong to a particular block."
   ]
  }
 ],
 "metadata": {
  "kernelspec": {
   "display_name": "Python 3 (ipykernel)",
   "language": "python",
   "name": "python3"
  },
  "language_info": {
   "codemirror_mode": {
    "name": "ipython",
    "version": 3
   },
   "file_extension": ".py",
   "mimetype": "text/x-python",
   "name": "python",
   "nbconvert_exporter": "python",
   "pygments_lexer": "ipython3",
   "version": "3.10.7"
  }
 },
 "nbformat": 4,
 "nbformat_minor": 5
}
