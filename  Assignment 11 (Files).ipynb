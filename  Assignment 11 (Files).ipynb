{
 "cells": [
  {
   "cell_type": "markdown",
   "id": "f07523d5",
   "metadata": {},
   "source": [
    "Q1. Which function is used to open a file? What are the different modes of opening a file? Explain each mode\n",
    "of file opening."
   ]
  },
  {
   "cell_type": "markdown",
   "id": "ef3fc54b",
   "metadata": {},
   "source": [
    "In Python, the open() function is used to open a file. It takes the filename as a parameter and returns a file object that allows you to interact with the file.\n",
    "\n",
    "The different modes of opening a file are:\n",
    "\n",
    "'r' (Read mode): This is the default mode. It opens the file for reading. If the file does not exist, it raises a FileNotFoundError. When a file is opened in read mode, you can only read its contents.\n",
    "\n",
    "'w' (Write mode): This mode opens the file for writing. If the file does not exist, it creates a new file. If the file already exists, it truncates its contents. In write mode, you can write data to the file and overwrite its existing contents.\n",
    "\n",
    "'a' (Append mode): This mode opens the file for appending. If the file does not exist, it creates a new file. If the file already exists, it appends the data to the end of the file without truncating its contents. In append mode, new data is added to the existing contents of the file.\n",
    "\n",
    "'x' (Exclusive creation mode): This mode is used to create a new file but raises a FileExistsError if the file already exists. It prevents accidentally overwriting an existing file.\n",
    "\n",
    "'t' (Text mode): This is the default mode and it opens the file in text mode. In this mode, the file is treated as a text file and data is read or written as strings.\n",
    "\n",
    "'b' (Binary mode): This mode opens the file in binary mode. It is used to read or write binary data such as images, audio files, etc. In binary mode, data is read or written as bytes."
   ]
  },
  {
   "cell_type": "markdown",
   "id": "b67416c2",
   "metadata": {},
   "source": [
    "Q2. Why close() function is used? Why is it important to close a file?"
   ]
  },
  {
   "cell_type": "markdown",
   "id": "9d588ee7",
   "metadata": {},
   "source": [
    "The close() function is used to close a file that was previously opened using the open() function in Python.\n",
    "\n",
    "closing a file with the close() function ensures proper resource management, data integrity, and allows other processes to access the file. It is a good practice to always close files after using them to maintain code reliability and efficiency. "
   ]
  },
  {
   "cell_type": "markdown",
   "id": "9753e229",
   "metadata": {},
   "source": [
    "Q3. Write a python program to create a text file. Write ‘I want to become a Data Scientist’ in that file. Then\n",
    "close the file. Open this file and read the content of the file."
   ]
  },
  {
   "cell_type": "code",
   "execution_count": 2,
   "id": "4245c404",
   "metadata": {},
   "outputs": [],
   "source": [
    "file = open('my_file.txt', 'w')\n",
    "file.write('I want to become a Data Scientist')\n",
    "file.close()"
   ]
  },
  {
   "cell_type": "code",
   "execution_count": 3,
   "id": "a8303689",
   "metadata": {},
   "outputs": [
    {
     "name": "stdout",
     "output_type": "stream",
     "text": [
      "I want to become a Data Scientist\n"
     ]
    }
   ],
   "source": [
    "file = open('my_file.txt', 'r')\n",
    "content = file.read()\n",
    "file.close()\n",
    "print(content)"
   ]
  },
  {
   "cell_type": "markdown",
   "id": "d7692020",
   "metadata": {},
   "source": [
    "Q4. Explain the following with python code: read(), readline() and readlines()."
   ]
  },
  {
   "cell_type": "markdown",
   "id": "c45a7f27",
   "metadata": {},
   "source": [
    "1) read(): The read() function is used to read the entire content of a file as a single string. It reads and returns all the characters from the current file position till the end of the file.\n",
    "\n",
    "2) readline(): The readline() function is used to read a single line from the file. Each time it is called, it reads the next line from the current file position.\n",
    "\n",
    "3) readlines(): The readlines() function is used to read all the lines of the file and return them as a list of strings. Each line of the file becomes an element in the list."
   ]
  },
  {
   "cell_type": "markdown",
   "id": "b5a8fe52",
   "metadata": {},
   "source": [
    "Q5. Explain why with statement is used with open(). What is the advantage of using with statement and\n",
    "open() together?"
   ]
  },
  {
   "cell_type": "markdown",
   "id": "85dbecad",
   "metadata": {},
   "source": [
    "\n",
    "The with statement is used in conjunction with the open() function to ensure proper handling of file resources. It provides a convenient way to open a file, perform operations on it, and automatically close it when done, even if an exception occurs.\n",
    "\n",
    "When using the with statement, you don't have to explicitly close the file using the close() method. The with statement takes care of closing the file automatically after the indented block of code is executed or when an exception is raised. This helps in preventing resource leaks and ensures that the file is always properly closed, even if an error occurs during file operations.\n",
    "The with statement handles exceptions raised within the block of code. If an exception occurs, it ensures that the file is still properly closed before propagating the exception. This helps in maintaining the integrity of the file and prevents data corruption."
   ]
  },
  {
   "cell_type": "markdown",
   "id": "5ab7c3dc",
   "metadata": {},
   "source": [
    "Q6. Explain the write() and writelines() functions. Give a suitable example."
   ]
  },
  {
   "cell_type": "markdown",
   "id": "5fc18aef",
   "metadata": {},
   "source": [
    "1) The write() function is used to write a single string of data to a file.\n",
    "   It takes a string as an argument and writes that string to the file.\n",
    "   If the file does not exist, it creates a new file. If the file already exists, it overwrites the existing content.\n",
    "   The write() function returns the number of characters written to the file."
   ]
  },
  {
   "cell_type": "code",
   "execution_count": 4,
   "id": "540bf470",
   "metadata": {},
   "outputs": [],
   "source": [
    "with open('my_file.txt', 'w') as file:\n",
    "    file.write('Hello, World!')"
   ]
  },
  {
   "cell_type": "markdown",
   "id": "fc254320",
   "metadata": {},
   "source": [
    "2) The writelines() function is used to write multiple strings of data to a file.\n",
    "   It takes an iterable of strings as an argument and writes each string to the file.\n",
    "   Each string in the iterable is written on a separate line in the file.\n",
    "   Like write(), if the file doesn't exist, it creates a new file. If the file exists, it overwrites the existing content."
   ]
  }
 ],
 "metadata": {
  "kernelspec": {
   "display_name": "Python 3 (ipykernel)",
   "language": "python",
   "name": "python3"
  },
  "language_info": {
   "codemirror_mode": {
    "name": "ipython",
    "version": 3
   },
   "file_extension": ".py",
   "mimetype": "text/x-python",
   "name": "python",
   "nbconvert_exporter": "python",
   "pygments_lexer": "ipython3",
   "version": "3.10.7"
  }
 },
 "nbformat": 4,
 "nbformat_minor": 5
}
