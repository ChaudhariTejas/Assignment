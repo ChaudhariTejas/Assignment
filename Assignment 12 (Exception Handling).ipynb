{
 "cells": [
  {
   "cell_type": "markdown",
   "id": "1f330c29",
   "metadata": {},
   "source": [
    "Q1. What is Exception in python? Write the differene between Exceptions and syntax error."
   ]
  },
  {
   "cell_type": "markdown",
   "id": "69efa676",
   "metadata": {},
   "source": [
    "Exception is an event that occurs during the execution of a program that disrupts the normal flow of the program's instructions. When an exceptional condition occurs, an exception is raised, which can be caught and handled by appropriate code.\n",
    "\n",
    "Exceptions are runtime errors that occur during program execution and can be caught and handled, while syntax errors are compile-time errors that need to be fixed before the program can run. Exceptions are caused by program logic or external factors, while syntax errors are caused by violations of Python's syntax rules."
   ]
  },
  {
   "cell_type": "markdown",
   "id": "67d526de",
   "metadata": {},
   "source": [
    "Q2. What happens when an exception is not handled? Explain with an example."
   ]
  },
  {
   "cell_type": "markdown",
   "id": "e6390f3e",
   "metadata": {},
   "source": [
    "When an exception is not handled, it leads to an error message being displayed, and the program terminates abruptly. This behavior is known as an unhandled exception. Let's consider an example to understand this:"
   ]
  },
  {
   "cell_type": "code",
   "execution_count": 1,
   "id": "3c57d14b",
   "metadata": {},
   "outputs": [
    {
     "ename": "ZeroDivisionError",
     "evalue": "division by zero",
     "output_type": "error",
     "traceback": [
      "\u001b[1;31m---------------------------------------------------------------------------\u001b[0m",
      "\u001b[1;31mZeroDivisionError\u001b[0m                         Traceback (most recent call last)",
      "Cell \u001b[1;32mIn [1], line 4\u001b[0m\n\u001b[0;32m      2\u001b[0m     result \u001b[38;5;241m=\u001b[39m a \u001b[38;5;241m/\u001b[39m b\n\u001b[0;32m      3\u001b[0m     \u001b[38;5;28;01mreturn\u001b[39;00m result\n\u001b[1;32m----> 4\u001b[0m result \u001b[38;5;241m=\u001b[39m divide_numbers(\u001b[38;5;241m10\u001b[39m, \u001b[38;5;241m0\u001b[39m)\n\u001b[0;32m      5\u001b[0m \u001b[38;5;28mprint\u001b[39m(result)\n",
      "Cell \u001b[1;32mIn [1], line 2\u001b[0m, in \u001b[0;36mdivide_numbers\u001b[1;34m(a, b)\u001b[0m\n\u001b[0;32m      1\u001b[0m \u001b[38;5;28;01mdef\u001b[39;00m \u001b[38;5;21mdivide_numbers\u001b[39m(a, b):\n\u001b[1;32m----> 2\u001b[0m     result \u001b[38;5;241m=\u001b[39m \u001b[43ma\u001b[49m\u001b[43m \u001b[49m\u001b[38;5;241;43m/\u001b[39;49m\u001b[43m \u001b[49m\u001b[43mb\u001b[49m\n\u001b[0;32m      3\u001b[0m     \u001b[38;5;28;01mreturn\u001b[39;00m result\n",
      "\u001b[1;31mZeroDivisionError\u001b[0m: division by zero"
     ]
    }
   ],
   "source": [
    "def divide_numbers(a, b):\n",
    "    result = a / b\n",
    "    return result\n",
    "result = divide_numbers(10, 0)\n",
    "print(result)\n"
   ]
  },
  {
   "cell_type": "markdown",
   "id": "fb0276e2",
   "metadata": {},
   "source": [
    "In above example, we have a function called divide_numbers that performs division between two numbers. However, we are passing 0 as the second argument, which will result in a ZeroDivisionError. When this exception occurs, and if it is not handled, the program will terminate and display an error message"
   ]
  },
  {
   "cell_type": "markdown",
   "id": "37b74d05",
   "metadata": {},
   "source": [
    "Q3. Which Python statements are used to ,catch and handle exceptions? Explain with an example."
   ]
  },
  {
   "cell_type": "markdown",
   "id": "995fdc79",
   "metadata": {},
   "source": [
    "In Python, the try and except statements are used to catch and handle exceptions. The try block contains the code that might raise an exception, and the except block specifies the actions to be taken when a specific exception occurs."
   ]
  },
  {
   "cell_type": "code",
   "execution_count": 3,
   "id": "1df8a728",
   "metadata": {},
   "outputs": [
    {
     "name": "stdout",
     "output_type": "stream",
     "text": [
      "5.0\n",
      "Error: Division by zero is not allowed.\n",
      "None\n"
     ]
    }
   ],
   "source": [
    "def divide_numbers(a, b):\n",
    "    try:\n",
    "        result = a / b\n",
    "        return result\n",
    "    except ZeroDivisionError:\n",
    "        print(\"Error: Division by zero is not allowed.\")\n",
    "\n",
    "print(divide_numbers(10, 2))\n",
    "print(divide_numbers(10, 0))  \n"
   ]
  },
  {
   "cell_type": "markdown",
   "id": "1d05ca5a",
   "metadata": {},
   "source": [
    "Q4. Explain with an example: 1)try and else 2)finally 3)raise "
   ]
  },
  {
   "cell_type": "markdown",
   "id": "ecd5a331",
   "metadata": {},
   "source": [
    "1) The else block is executed if the code in the try block does not raise an exception. It is optional and provides a way to specify additional code to be executed when no exceptions occur."
   ]
  },
  {
   "cell_type": "code",
   "execution_count": 8,
   "id": "4b216b31",
   "metadata": {},
   "outputs": [
    {
     "name": "stdout",
     "output_type": "stream",
     "text": [
      "Enter a number: 8\n",
      "Division result: 1.25\n"
     ]
    }
   ],
   "source": [
    "try:\n",
    "    num = int(input(\"Enter a number: \"))\n",
    "    result = 10 / num\n",
    "except ValueError:\n",
    "    print(\"Invalid input. Please enter a valid number.\")\n",
    "else:\n",
    "    print(\"Division result:\", result)\n"
   ]
  },
  {
   "cell_type": "markdown",
   "id": "4f927d44",
   "metadata": {},
   "source": [
    "2) The finally block is used to specify code that will be executed regardless of whether an exception occurs or not. It is typically used to perform cleanup or finalization tasks, such as closing files or releasing resources."
   ]
  },
  {
   "cell_type": "code",
   "execution_count": 9,
   "id": "99ea64f9",
   "metadata": {},
   "outputs": [
    {
     "name": "stdout",
     "output_type": "stream",
     "text": [
      "File not found.\n"
     ]
    }
   ],
   "source": [
    "file = None\n",
    "try:\n",
    "    file = open(\"data.txt\", \"r\")\n",
    "    # Perform some file operations\n",
    "    # ...\n",
    "except FileNotFoundError:\n",
    "    print(\"File not found.\")\n",
    "finally:\n",
    "    if file:\n",
    "        file.close()\n"
   ]
  },
  {
   "cell_type": "markdown",
   "id": "7f7c8782",
   "metadata": {},
   "source": [
    "3)The raise statement is used to raise an exception explicitly. It allows you to create and raise custom exceptions or propagate existing exceptions"
   ]
  },
  {
   "cell_type": "code",
   "execution_count": 10,
   "id": "89280e08",
   "metadata": {},
   "outputs": [
    {
     "name": "stdout",
     "output_type": "stream",
     "text": [
      "Age is valid.\n",
      "Invalid age: Age cannot be negative.\n"
     ]
    }
   ],
   "source": [
    "def validate_age(age):\n",
    "    if age < 0:\n",
    "        raise ValueError(\"Age cannot be negative.\")\n",
    "    elif age < 18:\n",
    "        raise ValueError(\"Age must be at least 18 years.\")\n",
    "    else:\n",
    "        print(\"Age is valid.\")\n",
    "\n",
    "try:\n",
    "    validate_age(20)\n",
    "    validate_age(-5)\n",
    "except ValueError as e:\n",
    "    print(\"Invalid age:\", str(e))\n"
   ]
  },
  {
   "cell_type": "markdown",
   "id": "654310e0",
   "metadata": {},
   "source": [
    "Q5. What are Custom Exceptions in python? Why do we need Custom Exceptions? Explain with an example."
   ]
  },
  {
   "cell_type": "markdown",
   "id": "0cfb66de",
   "metadata": {},
   "source": [
    "Custom exceptions in Python are user-defined exceptions that allow you to create specific types of errors to handle exceptional conditions in your code. They are derived from the base Exception class or any other built-in exception class.\n",
    "\n",
    "We need custom exceptions to provide more meaningful and specific error messages for different scenarios in our code. By creating custom exceptions, we can encapsulate the details of the error and provide clear information to the users or developers about the nature of the exceptional condition that occurred."
   ]
  },
  {
   "cell_type": "code",
   "execution_count": 11,
   "id": "fe8be0d4",
   "metadata": {},
   "outputs": [
    {
     "name": "stdout",
     "output_type": "stream",
     "text": [
      "Insufficient funds. Amount: 1000, Balance: 500\n"
     ]
    }
   ],
   "source": [
    "class InsufficientFundsError(Exception):\n",
    "    \"\"\"Custom exception for insufficient funds error.\"\"\"\n",
    "\n",
    "    def __init__(self, amount, balance):\n",
    "        self.amount = amount\n",
    "        self.balance = balance\n",
    "\n",
    "    def __str__(self):\n",
    "        return f\"Insufficient funds. Amount: {self.amount}, Balance: {self.balance}\"\n",
    "\n",
    "\n",
    "class BankAccount:\n",
    "    def __init__(self, balance):\n",
    "        self.balance = balance\n",
    "\n",
    "    def withdraw(self, amount):\n",
    "        if amount > self.balance:\n",
    "            raise InsufficientFundsError(amount, self.balance)\n",
    "        self.balance -= amount\n",
    "\n",
    "\n",
    "try:\n",
    "    account = BankAccount(500)\n",
    "    account.withdraw(1000)\n",
    "except InsufficientFundsError as e:\n",
    "    print(str(e))\n"
   ]
  },
  {
   "cell_type": "markdown",
   "id": "77fbf24a",
   "metadata": {},
   "source": [
    "Q6. Create  custom exception class. Use this class to handle an exception."
   ]
  },
  {
   "cell_type": "code",
   "execution_count": 12,
   "id": "bf5176dd",
   "metadata": {},
   "outputs": [
    {
     "name": "stdout",
     "output_type": "stream",
     "text": [
      "Cannot divide by zero\n"
     ]
    }
   ],
   "source": [
    "class CustomException(Exception):\n",
    "    \"\"\"Custom exception class.\"\"\"\n",
    "\n",
    "    def __init__(self, message):\n",
    "        self.message = message\n",
    "\n",
    "    def __str__(self):\n",
    "        return self.message\n",
    "\n",
    "\n",
    "def divide_numbers(a, b):\n",
    "    if b == 0:\n",
    "        raise CustomException(\"Cannot divide by zero\")\n",
    "    return a / b\n",
    "\n",
    "\n",
    "try:\n",
    "    result = divide_numbers(10, 0)\n",
    "except CustomException as e:\n",
    "    print(str(e))\n"
   ]
  }
 ],
 "metadata": {
  "kernelspec": {
   "display_name": "Python 3 (ipykernel)",
   "language": "python",
   "name": "python3"
  },
  "language_info": {
   "codemirror_mode": {
    "name": "ipython",
    "version": 3
   },
   "file_extension": ".py",
   "mimetype": "text/x-python",
   "name": "python",
   "nbconvert_exporter": "python",
   "pygments_lexer": "ipython3",
   "version": "3.10.7"
  }
 },
 "nbformat": 4,
 "nbformat_minor": 5
}
