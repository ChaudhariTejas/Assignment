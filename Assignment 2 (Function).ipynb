{
 "cells": [
  {
   "cell_type": "markdown",
   "id": "8744b0b5",
   "metadata": {},
   "source": [
    "Q1. Which keyword is used to create a function? Create a function to return a list of odd numbers in the\n",
    "range of 1 to 25."
   ]
  },
  {
   "cell_type": "code",
   "execution_count": 43,
   "id": "046005a5",
   "metadata": {},
   "outputs": [],
   "source": [
    "# def is a keyword which is use to create a function.\n",
    "#This is the general function use to find odd numbers between any two points.\n",
    "def odd_numbers (starting_point, ending_point):\n",
    "    odd_numbers = []\n",
    "    for i in range(starting_point, ending_point+1):\n",
    "        if i % 2 != 0:\n",
    "            odd_numbers.append(i)\n",
    "    return odd_numbers"
   ]
  },
  {
   "cell_type": "code",
   "execution_count": 44,
   "id": "8a32f247",
   "metadata": {},
   "outputs": [
    {
     "data": {
      "text/plain": [
       "[1, 3, 5, 7, 9, 11, 13, 15, 17, 19, 21, 23, 25]"
      ]
     },
     "execution_count": 44,
     "metadata": {},
     "output_type": "execute_result"
    }
   ],
   "source": [
    "odd_numbers(1,25)"
   ]
  },
  {
   "cell_type": "markdown",
   "id": "37482842",
   "metadata": {},
   "source": [
    "Q2. why * args and ** kwargs is used in some functions? Create a function each for * args and ** kwargs\n",
    "to demonstrate their use."
   ]
  },
  {
   "cell_type": "markdown",
   "id": "9a6444c5",
   "metadata": {},
   "source": [
    "*args - It is use to pass n numbers of positional arguments inside a function.\n",
    "        It collects the positional arguments into a tuple within the function\n",
    "** kwargs -It is use  for passing input inside a function in key value format(i.e keyword arguments).\n",
    "           It collects the keyword arguments into a dictionary within the function"
   ]
  },
  {
   "cell_type": "code",
   "execution_count": 56,
   "id": "1a1052a2",
   "metadata": {},
   "outputs": [],
   "source": [
    "#1)Use of *args-\n",
    "def test(*args):\n",
    "    join=''\n",
    "    for i in args:\n",
    "        join=join+i\n",
    "    return(join)"
   ]
  },
  {
   "cell_type": "code",
   "execution_count": 58,
   "id": "0fd5bbda",
   "metadata": {},
   "outputs": [
    {
     "data": {
      "text/plain": [
       "'Tejas Devram Chaudhari'"
      ]
     },
     "execution_count": 58,
     "metadata": {},
     "output_type": "execute_result"
    }
   ],
   "source": [
    "test('Tejas',\" \",'Devram',\" \",'Chaudhari')"
   ]
  },
  {
   "cell_type": "code",
   "execution_count": 78,
   "id": "b19a30fe",
   "metadata": {},
   "outputs": [],
   "source": [
    "#2)Use of **kwargs-\n",
    "def print_person_details(**kwargs):\n",
    "    for key, value in kwargs.items():\n",
    "        print(key + \": \" + str(value))"
   ]
  },
  {
   "cell_type": "code",
   "execution_count": 79,
   "id": "f356c355",
   "metadata": {},
   "outputs": [
    {
     "name": "stdout",
     "output_type": "stream",
     "text": [
      "a: [1, 2, 3, 4]\n",
      "b: sudh\n",
      "c: 23.45\n"
     ]
    }
   ],
   "source": [
    "print_person_details(a=[1,2,3,4],b='sudh',c=23.45)"
   ]
  },
  {
   "cell_type": "markdown",
   "id": "9eebbc44",
   "metadata": {},
   "source": [
    "Q3. What is an iterator in python? Name the method used to initialise the iterator object and the method\n",
    "used for iteration. Use these methods to print the first five elements of the given list [2, 4, 6, 8, 10, 12, 14,\n",
    "16, 18, 20]."
   ]
  },
  {
   "cell_type": "markdown",
   "id": "051ada17",
   "metadata": {},
   "source": [
    "What is an iterator in python?\n",
    "\n",
    "iterator is an object that allows iteration over a sequence of elements. It provides a way to access the elements of a collection one at a time, without the need to store the entire collection in memory.\n",
    "\n",
    "method used to initialise the iterator object-\n",
    "\n",
    "iter(): This method is used to initialize an iterator object. It takes an iterable as an argument and returns an iterator object. The iterable can be a list, tuple, string, or any other object that supports iteration.\n",
    "\n",
    "method used for iteration-\n",
    "\n",
    "next(): This method is used to retrieve the next element from the iterator. It returns the next item in the iterator. When there are no more elements, it raises the StopIteration exception."
   ]
  },
  {
   "cell_type": "code",
   "execution_count": 83,
   "id": "84e35552",
   "metadata": {},
   "outputs": [
    {
     "name": "stdout",
     "output_type": "stream",
     "text": [
      "2\n",
      "4\n",
      "6\n",
      "8\n",
      "10\n"
     ]
    }
   ],
   "source": [
    "list1 = [2, 4, 6, 8, 10, 12, 14, 16, 18, 20]\n",
    "my_iterator = iter(list1)\n",
    "\n",
    "for i in range(5):\n",
    "    print(next(my_iterator))"
   ]
  },
  {
   "cell_type": "markdown",
   "id": "4202d99b",
   "metadata": {},
   "source": [
    "Q4. What is a generator function in python? Why yield keyword is used? Give an example of a generator\n",
    "function."
   ]
  },
  {
   "cell_type": "markdown",
   "id": "9b2a51ef",
   "metadata": {},
   "source": [
    "--Generator function is a special type of function that generates a sequence of values instead of returning a single value like regular functions.\n",
    "--It uses the yield keyword to produce a series of values one at a time, allowing the generator to be paused and resumed during iteration."
   ]
  },
  {
   "cell_type": "code",
   "execution_count": 89,
   "id": "ba9c9714",
   "metadata": {},
   "outputs": [],
   "source": [
    "def generate_even_numbers(n):\n",
    "    for i in range(n):\n",
    "        if i % 2 == 0:\n",
    "            yield i"
   ]
  },
  {
   "cell_type": "code",
   "execution_count": 90,
   "id": "37fe9c75",
   "metadata": {
    "scrolled": true
   },
   "outputs": [
    {
     "name": "stdout",
     "output_type": "stream",
     "text": [
      "0\n",
      "2\n",
      "4\n",
      "6\n",
      "8\n"
     ]
    }
   ],
   "source": [
    "even_generator = generate_even_numbers(10)\n",
    "for num in even_generator:\n",
    "    print(num)"
   ]
  },
  {
   "cell_type": "markdown",
   "id": "a74c56d4",
   "metadata": {},
   "source": [
    "Q5. Create a generator function for prime numbers less than 1000. Use the next() method to print the\n",
    "first 20 prime numbers."
   ]
  },
  {
   "cell_type": "code",
   "execution_count": 92,
   "id": "892fe8cb",
   "metadata": {},
   "outputs": [],
   "source": [
    "def generate_primes():\n",
    "    num = 2\n",
    "    while True:\n",
    "        is_prime = True\n",
    "        for i in range(2, int(num ** 0.5) + 1):\n",
    "            if num % i == 0:\n",
    "                is_prime = False\n",
    "                break\n",
    "        if is_prime:\n",
    "            yield num\n",
    "        num += 1"
   ]
  },
  {
   "cell_type": "code",
   "execution_count": 93,
   "id": "738b8361",
   "metadata": {},
   "outputs": [
    {
     "name": "stdout",
     "output_type": "stream",
     "text": [
      "2\n",
      "3\n",
      "5\n",
      "7\n",
      "11\n",
      "13\n",
      "17\n",
      "19\n",
      "23\n",
      "29\n",
      "31\n",
      "37\n",
      "41\n",
      "43\n",
      "47\n",
      "53\n",
      "59\n",
      "61\n",
      "67\n",
      "71\n"
     ]
    }
   ],
   "source": [
    "prime_generator = generate_primes()\n",
    "for _ in range(20):\n",
    "    prime = next(prime_generator)\n",
    "    print(prime)\n"
   ]
  },
  {
   "cell_type": "markdown",
   "id": "4bf80014",
   "metadata": {},
   "source": [
    "Q6. Write a python program to print the first 10 Fibonacci numbers using a while loop."
   ]
  },
  {
   "cell_type": "code",
   "execution_count": 94,
   "id": "19dcbbf6",
   "metadata": {},
   "outputs": [
    {
     "name": "stdout",
     "output_type": "stream",
     "text": [
      "Enter number 10\n",
      "0\n",
      "1\n",
      "1\n",
      "2\n",
      "3\n",
      "5\n",
      "8\n",
      "13\n",
      "21\n",
      "34\n"
     ]
    }
   ],
   "source": [
    "n=int(input(\"Enter number \"))\n",
    "a,b=0,1\n",
    "counter=0\n",
    "while counter<n:\n",
    "    print(a)\n",
    "    c=a+b\n",
    "    a=b\n",
    "    b=c\n",
    "    counter=counter+1"
   ]
  },
  {
   "cell_type": "markdown",
   "id": "f7704f64",
   "metadata": {},
   "source": [
    "Q7. Write a List Comprehension to iterate through the given string: ‘pwskills’.\n",
    "Expected output: ['p', 'w', 's', 'k', 'i', 'l', 'l', 's']"
   ]
  },
  {
   "cell_type": "code",
   "execution_count": 96,
   "id": "1f409bc4",
   "metadata": {},
   "outputs": [],
   "source": [
    "string='pwskills'"
   ]
  },
  {
   "cell_type": "code",
   "execution_count": 97,
   "id": "f8e9bc04",
   "metadata": {},
   "outputs": [
    {
     "data": {
      "text/plain": [
       "['p', 'w', 's', 'k', 'i', 'l', 'l', 's']"
      ]
     },
     "execution_count": 97,
     "metadata": {},
     "output_type": "execute_result"
    }
   ],
   "source": [
    "[i for i in string]"
   ]
  },
  {
   "cell_type": "markdown",
   "id": "d3850c18",
   "metadata": {},
   "source": [
    "Q8. Write a python program to check whether a given number is Palindrome or not using a while loop."
   ]
  },
  {
   "cell_type": "code",
   "execution_count": 103,
   "id": "d086a05c",
   "metadata": {},
   "outputs": [
    {
     "name": "stdout",
     "output_type": "stream",
     "text": [
      "Enter a number: 12321\n",
      "12321 is a palindrome.\n"
     ]
    }
   ],
   "source": [
    "number = input(\"Enter a number: \")\n",
    "reverse_number = \"\"\n",
    "index = len(number) - 1\n",
    "while index >= 0:\n",
    "    reverse_number =reverse_number+number[index]\n",
    "    index =index- 1\n",
    "\n",
    "if number == reverse_number:\n",
    "    print(f\"{number} is a palindrome.\")\n",
    "else:\n",
    "    print(f\"{number} is not a palindrome.\")\n"
   ]
  },
  {
   "cell_type": "markdown",
   "id": "17bd1455",
   "metadata": {},
   "source": [
    "Q9. Write a code to print odd numbers from 1 to 100 using list comprehension.\n",
    "Note: Use a list comprehension to create a list from 1 to 100 and use another List comprehension to filter\n",
    "out odd numbers."
   ]
  },
  {
   "cell_type": "code",
   "execution_count": 105,
   "id": "4e5e3347",
   "metadata": {},
   "outputs": [
    {
     "data": {
      "text/plain": [
       "[1,\n",
       " 2,\n",
       " 3,\n",
       " 4,\n",
       " 5,\n",
       " 6,\n",
       " 7,\n",
       " 8,\n",
       " 9,\n",
       " 10,\n",
       " 11,\n",
       " 12,\n",
       " 13,\n",
       " 14,\n",
       " 15,\n",
       " 16,\n",
       " 17,\n",
       " 18,\n",
       " 19,\n",
       " 20,\n",
       " 21,\n",
       " 22,\n",
       " 23,\n",
       " 24,\n",
       " 25,\n",
       " 26,\n",
       " 27,\n",
       " 28,\n",
       " 29,\n",
       " 30,\n",
       " 31,\n",
       " 32,\n",
       " 33,\n",
       " 34,\n",
       " 35,\n",
       " 36,\n",
       " 37,\n",
       " 38,\n",
       " 39,\n",
       " 40,\n",
       " 41,\n",
       " 42,\n",
       " 43,\n",
       " 44,\n",
       " 45,\n",
       " 46,\n",
       " 47,\n",
       " 48,\n",
       " 49,\n",
       " 50,\n",
       " 51,\n",
       " 52,\n",
       " 53,\n",
       " 54,\n",
       " 55,\n",
       " 56,\n",
       " 57,\n",
       " 58,\n",
       " 59,\n",
       " 60,\n",
       " 61,\n",
       " 62,\n",
       " 63,\n",
       " 64,\n",
       " 65,\n",
       " 66,\n",
       " 67,\n",
       " 68,\n",
       " 69,\n",
       " 70,\n",
       " 71,\n",
       " 72,\n",
       " 73,\n",
       " 74,\n",
       " 75,\n",
       " 76,\n",
       " 77,\n",
       " 78,\n",
       " 79,\n",
       " 80,\n",
       " 81,\n",
       " 82,\n",
       " 83,\n",
       " 84,\n",
       " 85,\n",
       " 86,\n",
       " 87,\n",
       " 88,\n",
       " 89,\n",
       " 90,\n",
       " 91,\n",
       " 92,\n",
       " 93,\n",
       " 94,\n",
       " 95,\n",
       " 96,\n",
       " 97,\n",
       " 98,\n",
       " 99,\n",
       " 100]"
      ]
     },
     "execution_count": 105,
     "metadata": {},
     "output_type": "execute_result"
    }
   ],
   "source": [
    "[i for i in range(1,101)]"
   ]
  },
  {
   "cell_type": "code",
   "execution_count": 104,
   "id": "e052cf51",
   "metadata": {},
   "outputs": [
    {
     "data": {
      "text/plain": [
       "[1,\n",
       " 3,\n",
       " 5,\n",
       " 7,\n",
       " 9,\n",
       " 11,\n",
       " 13,\n",
       " 15,\n",
       " 17,\n",
       " 19,\n",
       " 21,\n",
       " 23,\n",
       " 25,\n",
       " 27,\n",
       " 29,\n",
       " 31,\n",
       " 33,\n",
       " 35,\n",
       " 37,\n",
       " 39,\n",
       " 41,\n",
       " 43,\n",
       " 45,\n",
       " 47,\n",
       " 49,\n",
       " 51,\n",
       " 53,\n",
       " 55,\n",
       " 57,\n",
       " 59,\n",
       " 61,\n",
       " 63,\n",
       " 65,\n",
       " 67,\n",
       " 69,\n",
       " 71,\n",
       " 73,\n",
       " 75,\n",
       " 77,\n",
       " 79,\n",
       " 81,\n",
       " 83,\n",
       " 85,\n",
       " 87,\n",
       " 89,\n",
       " 91,\n",
       " 93,\n",
       " 95,\n",
       " 97,\n",
       " 99]"
      ]
     },
     "execution_count": 104,
     "metadata": {},
     "output_type": "execute_result"
    }
   ],
   "source": [
    "[i for i in range(1,101) if i%2!=0]"
   ]
  },
  {
   "cell_type": "code",
   "execution_count": null,
   "id": "44d2b6c6",
   "metadata": {},
   "outputs": [],
   "source": []
  }
 ],
 "metadata": {
  "kernelspec": {
   "display_name": "Python 3 (ipykernel)",
   "language": "python",
   "name": "python3"
  },
  "language_info": {
   "codemirror_mode": {
    "name": "ipython",
    "version": 3
   },
   "file_extension": ".py",
   "mimetype": "text/x-python",
   "name": "python",
   "nbconvert_exporter": "python",
   "pygments_lexer": "ipython3",
   "version": "3.10.7"
  }
 },
 "nbformat": 4,
 "nbformat_minor": 5
}
