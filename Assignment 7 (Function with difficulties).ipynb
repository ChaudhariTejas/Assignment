{
 "cells": [
  {
   "cell_type": "markdown",
   "id": "fd227090",
   "metadata": {},
   "source": [
    "Q1. Create a function which will take a list as an argument and return the product of all the numbers\n",
    "after creating a flat list.\n",
    "Use the below-given list as an argument for your function."
   ]
  },
  {
   "cell_type": "markdown",
   "id": "ed388336",
   "metadata": {},
   "source": [
    "list1 = [1,2,3,4, [44,55,66, True], False, (34,56,78,89,34), {1,2,3,3,2,1}, {1:34, \"key2\": [55, 67, 78, 89], 4: (45,\n",
    "22, 61, 34)}, [56, 'data science'], 'Machine Learning']\n",
    "Note: you must extract numeric keys and values of the dictionary also."
   ]
  },
  {
   "cell_type": "code",
   "execution_count": 118,
   "id": "78ff334c",
   "metadata": {},
   "outputs": [],
   "source": [
    "list1 = [1,2,3,4, [44,55,66, True], False, (34,56,78,89,34), {1,2,3,3,2,1}, {1:34, \"key2\": [55, 67, 78, 89], 4: (45, 22, 61, 34)}, [56, 'data science'], 'Machine Learning']"
   ]
  },
  {
   "cell_type": "code",
   "execution_count": 119,
   "id": "89bbe4e5",
   "metadata": {},
   "outputs": [],
   "source": [
    "def product(lst):\n",
    "    result_list = test8(lst)\n",
    "    product = 1\n",
    "    for num in result_list:\n",
    "        product *= num\n",
    "    return product\n",
    "\n",
    "def test8(a):\n",
    "    result_list = []\n",
    "    for i in a:\n",
    "        if type(i) == list:\n",
    "            for j in i:\n",
    "                if type(j) == int or type(j) == float:\n",
    "                    result_list.append(j)\n",
    "        elif type(i) == tuple:\n",
    "            for k in i:\n",
    "                result_list.append(k)\n",
    "        elif type(i) == set:\n",
    "            for m in i:\n",
    "                result_list.append(m)\n",
    "        elif type(i) == dict:\n",
    "            for n in i.values():\n",
    "                if type(n) == int:\n",
    "                    result_list.append(n)\n",
    "                elif type(n) == list or type(n) == tuple:\n",
    "                    for num in n:\n",
    "                        if type(num) == int:\n",
    "                            result_list.append(num)\n",
    "        else:\n",
    "            if type(i) == int or type(i) == float:\n",
    "                result_list.append(i)\n",
    "    return result_list\n"
   ]
  },
  {
   "cell_type": "code",
   "execution_count": 120,
   "id": "37443250",
   "metadata": {},
   "outputs": [
    {
     "data": {
      "text/plain": [
       "1033677959746771369708460310528000"
      ]
     },
     "execution_count": 120,
     "metadata": {},
     "output_type": "execute_result"
    }
   ],
   "source": [
    "product(list1)"
   ]
  },
  {
   "cell_type": "markdown",
   "id": "6c08b835",
   "metadata": {},
   "source": [
    "Q2. Write a python program for encrypting a message sent to you by your friend. The logic of encryption\n",
    "should be such that, for a the output should be z. For b, the output should be y. For c, the output should\n",
    "be x respectively. Also, the whitespace should be replaced with a dollar sign. Keep the punctuation\n",
    "marks unchanged.\n",
    "Input Sentence: I want to become a Data Scientist.\n",
    "Encrypt the above input sentence using the program you just created.\n",
    "Note: Convert the given input sentence into lowercase before encrypting. The final output should be\n",
    "lowercase."
   ]
  },
  {
   "cell_type": "code",
   "execution_count": 125,
   "id": "4ea8240a",
   "metadata": {},
   "outputs": [
    {
     "data": {
      "text/plain": [
       "'r$dzmg$gl$yvxlnv$z$wzgz$hxrvmgrhg.'"
      ]
     },
     "execution_count": 125,
     "metadata": {},
     "output_type": "execute_result"
    }
   ],
   "source": [
    "def encrypt_message(message):\n",
    "    encrypted_message = \"\"\n",
    "    for char in message.lower():\n",
    "        if char.isalpha():\n",
    "            enchar= chr(ord('z') - (ord(char) - ord('a')))\n",
    "            encrypted_message += enchar\n",
    "        elif char == ' ':\n",
    "            encrypted_message += '$'\n",
    "        else:\n",
    "            encrypted_message += char\n",
    "    return encrypted_message\n",
    "\n",
    "encrypt_message(\"I want to become a Data Scientist.\")"
   ]
  }
 ],
 "metadata": {
  "kernelspec": {
   "display_name": "Python 3 (ipykernel)",
   "language": "python",
   "name": "python3"
  },
  "language_info": {
   "codemirror_mode": {
    "name": "ipython",
    "version": 3
   },
   "file_extension": ".py",
   "mimetype": "text/x-python",
   "name": "python",
   "nbconvert_exporter": "python",
   "pygments_lexer": "ipython3",
   "version": "3.10.7"
  }
 },
 "nbformat": 4,
 "nbformat_minor": 5
}
